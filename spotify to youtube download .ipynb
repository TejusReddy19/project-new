{
 "cells": [
  {
   "cell_type": "code",
   "execution_count": 10,
   "id": "1c631088",
   "metadata": {},
   "outputs": [
    {
     "name": "stderr",
     "output_type": "stream",
     "text": [
      "Couldn't read cache at: .cache\n",
      "Couldn't write token to cache at: .cache\n"
     ]
    },
    {
     "name": "stdout",
     "output_type": "stream",
     "text": [
      "Playlist Name: mint\n"
     ]
    }
   ],
   "source": [
    "import spotipy \n",
    "from spotipy.oauth2 import SpotifyClientCredentials\n",
    "\n",
    "# Set up your Spotify API credentials\n",
    "client_id = '5406074d160144aeba00bdb4092be110'\n",
    "client_secret = 'e7d04785254746c4ab5fc0d8cf4c5e9c'\n",
    "\n",
    "# Authenticate and authorize your application\n",
    "auth_manager = SpotifyClientCredentials(client_id=client_id, client_secret=client_secret)\n",
    "sp = spotipy.Spotify(auth_manager=auth_manager)\n",
    "\n",
    "# Specify the playlist ID\n",
    "playlist_id = '37i9dQZF1DX4dyzvuaRJ0n'\n",
    "\n",
    "# Make the API request to get the playlist details\n",
    "playlist = sp.playlist(playlist_id)\n",
    "\n",
    "# Extract the playlist name from the response\n",
    "playlist_name = playlist['name']\n",
    "\n",
    "# Print the playlist name\n",
    "print(\"Playlist Name:\", playlist_name)\n",
    "#https://open.spotify.com/playlist/5LPpuXzwLfwlxbktTLRUVN?si=7364eab3f6cc4924\n",
    "\n"
   ]
  },
  {
   "cell_type": "code",
   "execution_count": 8,
   "id": "cd25c52b",
   "metadata": {},
   "outputs": [
    {
     "name": "stderr",
     "output_type": "stream",
     "text": [
      "Couldn't read cache at: .cache\n",
      "Couldn't write token to cache at: .cache\n"
     ]
    },
    {
     "name": "stdout",
     "output_type": "stream",
     "text": [
      "Track Names:\n",
      "Take It Off\n",
      "Eat Your Man (with Nelly Furtado)\n",
      "Feel Your Ghost\n",
      "Shadows\n",
      "On + On (with Justine Skye)\n",
      "Beggin'\n",
      "Welcome To The Opera (with Grimes)\n",
      "Upside Down (feat. Poppy Baskcomb)\n",
      "Overdrive - Edit\n",
      "On & On\n",
      "Where You Are\n",
      "Baby Don't Hurt Me\n",
      "Hurricane\n",
      "Crying On The Dancefloor\n",
      "How You Samba\n",
      "0800 HEAVEN\n",
      "(It Goes Like) Nanana - Edit\n",
      "Feels Just Like it\n",
      "Your Mind Is Dirty\n",
      "See The Light (feat. Fridayy)\n",
      "The Feeling\n",
      "Shit We Do For Love\n",
      "Miracle (with Ellie Goulding)\n",
      "Lose Control\n",
      "Padam Padam\n",
      "Side Effects\n",
      "Praising You (feat. Fatboy Slim)\n",
      "Rock My Body\n",
      "Oh The Glamour\n",
      "Without You\n",
      "Sometimes… (with Daya & Earthgang)\n",
      "When She Dance\n",
      "Enjoy Your Life\n",
      "Baby again..\n",
      "Good Love\n",
      "Be The One\n",
      "I like u\n",
      "All Night Long\n",
      "Lost My Mind (Wake Up)\n",
      "Sweat\n",
      "Ghost Town\n",
      "Hero\n",
      "Dancing is Healing\n",
      "Off Wiv Ya Headz\n",
      "Jacaré\n",
      "Thinkin of You\n",
      "Other Side\n",
      "Wish I Could Forget (with blackbear & Bring Me The Horizon)\n",
      "Lose My Mind\n",
      "Push Up - Main Edit\n",
      "TMO (Turn Me On) [feat. Kevin Lyttle]\n",
      "RATATA\n",
      "Can’t Fight The Feeling\n",
      "Push To Start (feat. No/Me)\n",
      "Rhyme Dust\n",
      "Colourblind\n",
      "Don't Stop\n",
      "Substitution\n",
      "The Rapture Pt.III\n",
      "If Love Is A Skill\n",
      "Misbehave\n",
      "Explore Your Future\n",
      "Voodoo\n",
      "Giving Me\n",
      "Sex & The City - MK Remix\n",
      "Good Lies\n",
      "Pretty People (feat. INJI)\n",
      "Relax My Eyes\n",
      "Make Me\n",
      "Euphoria\n",
      "Tina\n",
      "Beyond the Fire\n",
      "Wait For It\n",
      "Yahyuppiyah (feat. Pcee, EeQue & Chley)\n",
      "Beyond Us - Hatshepsut Version\n"
     ]
    }
   ],
   "source": [
    "import spotipy\n",
    "from spotipy.oauth2 import SpotifyClientCredentials\n",
    "\n",
    "# Set up your Spotify API credentials\n",
    "client_id = '5406074d160144aeba00bdb4092be110'\n",
    "client_secret = 'e7d04785254746c4ab5fc0d8cf4c5e9c'\n",
    "\n",
    "# Authenticate and authorize your application\n",
    "auth_manager = SpotifyClientCredentials(client_id=client_id, client_secret=client_secret)\n",
    "sp = spotipy.Spotify(auth_manager=auth_manager)\n",
    "\n",
    "# Specify the playlist ID\n",
    "playlist_id = '37i9dQZF1DX4dyzvuaRJ0n'\n",
    "\n",
    "# Make the API request to get the playlist tracks\n",
    "playlist = sp.playlist_tracks(playlist_id)\n",
    "\n",
    "# Extract the names of the tracks from the response\n",
    "track_names = [item['track']['name'] for item in playlist['items']]\n",
    "\n",
    "# Print the track names\n",
    "print(\"Track Names:\")\n",
    "for name in track_names:\n",
    "    print(name)\n",
    "    \n"
   ]
  },
  {
   "cell_type": "code",
   "execution_count": 5,
   "id": "436720f7",
   "metadata": {},
   "outputs": [
    {
     "name": "stdout",
     "output_type": "stream",
     "text": [
      "Enemy - From the series Arcane League of Legends\n",
      "<pytube.contrib.search.Search object at 0x000001D0377157E0>\n"
     ]
    },
    {
     "name": "stderr",
     "output_type": "stream",
     "text": [
      "Unexpected renderer encountered.\n",
      "Renderer name: dict_keys(['reelShelfRenderer'])\n",
      "Search term: Enemy - From the series Arcane League of Legends\n",
      "Please open an issue at https://github.com/pytube/pytube/issues and provide this log output.\n",
      "Unexpected renderer encountered.\n",
      "Renderer name: dict_keys(['reelShelfRenderer'])\n",
      "Search term: Enemy - From the series Arcane League of Legends\n",
      "Please open an issue at https://github.com/pytube/pytube/issues and provide this log output.\n"
     ]
    },
    {
     "name": "stdout",
     "output_type": "stream",
     "text": [
      "https://youtube.com/watch?v=F5tSoaJ93ac\n",
      "DARKSIDE\n",
      "<pytube.contrib.search.Search object at 0x000001D03A5A1900>\n"
     ]
    },
    {
     "name": "stderr",
     "output_type": "stream",
     "text": [
      "Unexpected renderer encountered.\n",
      "Renderer name: dict_keys(['reelShelfRenderer'])\n",
      "Search term: DARKSIDE\n",
      "Please open an issue at https://github.com/pytube/pytube/issues and provide this log output.\n",
      "Unexpected renderer encountered.\n",
      "Renderer name: dict_keys(['reelShelfRenderer'])\n",
      "Search term: DARKSIDE\n",
      "Please open an issue at https://github.com/pytube/pytube/issues and provide this log output.\n"
     ]
    },
    {
     "name": "stdout",
     "output_type": "stream",
     "text": [
      "https://youtube.com/watch?v=s7-GTShjcqY\n",
      "Feeling Good\n",
      "<pytube.contrib.search.Search object at 0x000001D03A5E4850>\n"
     ]
    },
    {
     "name": "stderr",
     "output_type": "stream",
     "text": [
      "Unexpected renderer encountered.\n",
      "Renderer name: dict_keys(['reelShelfRenderer'])\n",
      "Search term: Feeling Good\n",
      "Please open an issue at https://github.com/pytube/pytube/issues and provide this log output.\n",
      "Unexpected renderer encountered.\n",
      "Renderer name: dict_keys(['reelShelfRenderer'])\n",
      "Search term: Feeling Good\n",
      "Please open an issue at https://github.com/pytube/pytube/issues and provide this log output.\n"
     ]
    },
    {
     "name": "stdout",
     "output_type": "stream",
     "text": [
      "https://youtube.com/watch?v=Edwsf-8F3sI\n",
      "I Did Something Bad\n",
      "<pytube.contrib.search.Search object at 0x000001D03A5E49A0>\n"
     ]
    },
    {
     "name": "stderr",
     "output_type": "stream",
     "text": [
      "Unexpected renderer encountered.\n",
      "Renderer name: dict_keys(['reelShelfRenderer'])\n",
      "Search term: I Did Something Bad\n",
      "Please open an issue at https://github.com/pytube/pytube/issues and provide this log output.\n",
      "Unexpected renderer encountered.\n",
      "Renderer name: dict_keys(['reelShelfRenderer'])\n",
      "Search term: I Did Something Bad\n",
      "Please open an issue at https://github.com/pytube/pytube/issues and provide this log output.\n"
     ]
    },
    {
     "name": "stdout",
     "output_type": "stream",
     "text": [
      "https://youtube.com/watch?v=xYLxUJ9v6KU\n",
      "Venom - Music From The Motion Picture\n",
      "<pytube.contrib.search.Search object at 0x000001D03A5E4B80>\n"
     ]
    },
    {
     "name": "stderr",
     "output_type": "stream",
     "text": [
      "Unexpected renderer encountered.\n",
      "Renderer name: dict_keys(['reelShelfRenderer'])\n",
      "Search term: Venom - Music From The Motion Picture\n",
      "Please open an issue at https://github.com/pytube/pytube/issues and provide this log output.\n",
      "Unexpected renderer encountered.\n",
      "Renderer name: dict_keys(['reelShelfRenderer'])\n",
      "Search term: Venom - Music From The Motion Picture\n",
      "Please open an issue at https://github.com/pytube/pytube/issues and provide this log output.\n"
     ]
    },
    {
     "name": "stdout",
     "output_type": "stream",
     "text": [
      "https://youtube.com/watch?v=RCDItRwm8UU\n",
      "villain\n",
      "<pytube.contrib.search.Search object at 0x000001D03A5E43A0>\n"
     ]
    },
    {
     "name": "stderr",
     "output_type": "stream",
     "text": [
      "Unexpected renderer encountered.\n",
      "Renderer name: dict_keys(['reelShelfRenderer'])\n",
      "Search term: villain\n",
      "Please open an issue at https://github.com/pytube/pytube/issues and provide this log output.\n",
      "Unexpected renderer encountered.\n",
      "Renderer name: dict_keys(['reelShelfRenderer'])\n",
      "Search term: villain\n",
      "Please open an issue at https://github.com/pytube/pytube/issues and provide this log output.\n"
     ]
    },
    {
     "name": "stdout",
     "output_type": "stream",
     "text": [
      "https://youtube.com/watch?v=oRZ0cfZ9SeU\n",
      "Unstoppable\n",
      "<pytube.contrib.search.Search object at 0x000001D037C6AAD0>\n"
     ]
    },
    {
     "name": "stderr",
     "output_type": "stream",
     "text": [
      "Unexpected renderer encountered.\n",
      "Renderer name: dict_keys(['reelShelfRenderer'])\n",
      "Search term: Unstoppable\n",
      "Please open an issue at https://github.com/pytube/pytube/issues and provide this log output.\n",
      "Unexpected renderer encountered.\n",
      "Renderer name: dict_keys(['reelShelfRenderer'])\n",
      "Search term: Unstoppable\n",
      "Please open an issue at https://github.com/pytube/pytube/issues and provide this log output.\n"
     ]
    },
    {
     "name": "stdout",
     "output_type": "stream",
     "text": [
      "https://youtube.com/watch?v=YaEG2aWJnZ8\n",
      "HDMI\n",
      "<pytube.contrib.search.Search object at 0x000001D037717160>\n"
     ]
    },
    {
     "name": "stderr",
     "output_type": "stream",
     "text": [
      "Unexpected renderer encountered.\n",
      "Renderer name: dict_keys(['reelShelfRenderer'])\n",
      "Search term: HDMI\n",
      "Please open an issue at https://github.com/pytube/pytube/issues and provide this log output.\n",
      "Unexpected renderer encountered.\n",
      "Renderer name: dict_keys(['reelShelfRenderer'])\n",
      "Search term: HDMI\n",
      "Please open an issue at https://github.com/pytube/pytube/issues and provide this log output.\n"
     ]
    },
    {
     "name": "stdout",
     "output_type": "stream",
     "text": [
      "https://youtube.com/watch?v=5souw4K5UQc\n",
      "King\n",
      "<pytube.contrib.search.Search object at 0x000001D0395A04F0>\n"
     ]
    },
    {
     "name": "stderr",
     "output_type": "stream",
     "text": [
      "Unexpected renderer encountered.\n",
      "Renderer name: dict_keys(['reelShelfRenderer'])\n",
      "Search term: King\n",
      "Please open an issue at https://github.com/pytube/pytube/issues and provide this log output.\n",
      "Unexpected renderer encountered.\n",
      "Renderer name: dict_keys(['reelShelfRenderer'])\n",
      "Search term: King\n",
      "Please open an issue at https://github.com/pytube/pytube/issues and provide this log output.\n",
      "Unexpected renderer encountered.\n",
      "Renderer name: dict_keys(['reelShelfRenderer'])\n",
      "Search term: King\n",
      "Please open an issue at https://github.com/pytube/pytube/issues and provide this log output.\n"
     ]
    },
    {
     "name": "stdout",
     "output_type": "stream",
     "text": [
      "https://youtube.com/watch?v=zGYo9s5dMrc\n"
     ]
    },
    {
     "ename": "LiveStreamError",
     "evalue": "zGYo9s5dMrc is streaming live and cannot be loaded",
     "output_type": "error",
     "traceback": [
      "\u001b[1;31m---------------------------------------------------------------------------\u001b[0m",
      "\u001b[1;31mLiveStreamError\u001b[0m                           Traceback (most recent call last)",
      "Cell \u001b[1;32mIn[5], line 12\u001b[0m\n\u001b[0;32m     10\u001b[0m \u001b[38;5;28mprint\u001b[39m(video_url)\n\u001b[0;32m     11\u001b[0m yt \u001b[38;5;241m=\u001b[39m YouTube(video_url)\n\u001b[1;32m---> 12\u001b[0m video_stream \u001b[38;5;241m=\u001b[39m \u001b[43myt\u001b[49m\u001b[38;5;241;43m.\u001b[39;49m\u001b[43mstreams\u001b[49m\u001b[38;5;241m.\u001b[39mget_highest_resolution()\n\u001b[0;32m     13\u001b[0m output_path \u001b[38;5;241m=\u001b[39m \u001b[38;5;124m\"\u001b[39m\u001b[38;5;124mC:/Users/tejus/OneDrive/Desktop/this is vid\u001b[39m\u001b[38;5;124m\"\u001b[39m\n\u001b[0;32m     14\u001b[0m video_stream\u001b[38;5;241m.\u001b[39mdownload(output_path)\n",
      "File \u001b[1;32m~\\anaconda3\\lib\\site-packages\\pytube\\__main__.py:295\u001b[0m, in \u001b[0;36mYouTube.streams\u001b[1;34m(self)\u001b[0m\n\u001b[0;32m    289\u001b[0m \u001b[38;5;129m@property\u001b[39m\n\u001b[0;32m    290\u001b[0m \u001b[38;5;28;01mdef\u001b[39;00m \u001b[38;5;21mstreams\u001b[39m(\u001b[38;5;28mself\u001b[39m) \u001b[38;5;241m-\u001b[39m\u001b[38;5;241m>\u001b[39m StreamQuery:\n\u001b[0;32m    291\u001b[0m \u001b[38;5;250m    \u001b[39m\u001b[38;5;124;03m\"\"\"Interface to query both adaptive (DASH) and progressive streams.\u001b[39;00m\n\u001b[0;32m    292\u001b[0m \n\u001b[0;32m    293\u001b[0m \u001b[38;5;124;03m    :rtype: :class:`StreamQuery <StreamQuery>`.\u001b[39;00m\n\u001b[0;32m    294\u001b[0m \u001b[38;5;124;03m    \"\"\"\u001b[39;00m\n\u001b[1;32m--> 295\u001b[0m     \u001b[38;5;28;43mself\u001b[39;49m\u001b[38;5;241;43m.\u001b[39;49m\u001b[43mcheck_availability\u001b[49m\u001b[43m(\u001b[49m\u001b[43m)\u001b[49m\n\u001b[0;32m    296\u001b[0m     \u001b[38;5;28;01mreturn\u001b[39;00m StreamQuery(\u001b[38;5;28mself\u001b[39m\u001b[38;5;241m.\u001b[39mfmt_streams)\n",
      "File \u001b[1;32m~\\anaconda3\\lib\\site-packages\\pytube\\__main__.py:233\u001b[0m, in \u001b[0;36mYouTube.check_availability\u001b[1;34m(self)\u001b[0m\n\u001b[0;32m    231\u001b[0m         \u001b[38;5;28;01mraise\u001b[39;00m exceptions\u001b[38;5;241m.\u001b[39mVideoUnavailable(video_id\u001b[38;5;241m=\u001b[39m\u001b[38;5;28mself\u001b[39m\u001b[38;5;241m.\u001b[39mvideo_id)\n\u001b[0;32m    232\u001b[0m \u001b[38;5;28;01melif\u001b[39;00m status \u001b[38;5;241m==\u001b[39m \u001b[38;5;124m'\u001b[39m\u001b[38;5;124mLIVE_STREAM\u001b[39m\u001b[38;5;124m'\u001b[39m:\n\u001b[1;32m--> 233\u001b[0m     \u001b[38;5;28;01mraise\u001b[39;00m exceptions\u001b[38;5;241m.\u001b[39mLiveStreamError(video_id\u001b[38;5;241m=\u001b[39m\u001b[38;5;28mself\u001b[39m\u001b[38;5;241m.\u001b[39mvideo_id)\n",
      "\u001b[1;31mLiveStreamError\u001b[0m: zGYo9s5dMrc is streaming live and cannot be loaded"
     ]
    }
   ],
   "source": [
    "from pytube import YouTube\n",
    "from pytube import Search\n",
    "\n",
    "# Provide the video name to search for\n",
    "for video_name in track_names:\n",
    "    print(video_name)\n",
    "    search_results = Search(video_name)\n",
    "    print(search_results)\n",
    "    video_url = search_results.results[0].watch_url\n",
    "    print(video_url)\n",
    "    yt = YouTube(video_url)\n",
    "    video_stream = yt.streams.get_highest_resolution()\n",
    "    output_path = \"C:/Users/tejus/OneDrive/Desktop/this is vid\"\n",
    "    video_stream.download(output_path)"
   ]
  },
  {
   "cell_type": "code",
   "execution_count": null,
   "id": "3f6253d0",
   "metadata": {},
   "outputs": [],
   "source": []
  },
  {
   "cell_type": "code",
   "execution_count": null,
   "id": "661f53de",
   "metadata": {},
   "outputs": [],
   "source": []
  }
 ],
 "metadata": {
  "kernelspec": {
   "display_name": "Python 3 (ipykernel)",
   "language": "python",
   "name": "python3"
  },
  "language_info": {
   "codemirror_mode": {
    "name": "ipython",
    "version": 3
   },
   "file_extension": ".py",
   "mimetype": "text/x-python",
   "name": "python",
   "nbconvert_exporter": "python",
   "pygments_lexer": "ipython3",
   "version": "3.10.9"
  }
 },
 "nbformat": 4,
 "nbformat_minor": 5
}
